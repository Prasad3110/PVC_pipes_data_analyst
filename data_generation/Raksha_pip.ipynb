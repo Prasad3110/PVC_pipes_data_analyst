{
 "cells": [
  {
   "cell_type": "code",
   "execution_count": 97,
   "metadata": {},
   "outputs": [],
   "source": [
    "from faker import Faker\n",
    "import pandas as pd\n",
    "import numpy as np"
   ]
  },
  {
   "cell_type": "code",
   "execution_count": 98,
   "metadata": {},
   "outputs": [],
   "source": [
    "# Initialize Faker\n",
    "my_fake = Faker()"
   ]
  },
  {
   "cell_type": "code",
   "execution_count": 99,
   "metadata": {},
   "outputs": [],
   "source": [
    "# Generate fake data for Customers table\n",
    "customers_schema = []\n",
    "for i in range(1, 750):  \n",
    "    customers = {\n",
    "        'Customer_ID': i,\n",
    "        'FirstName': my_fake.first_name(),\n",
    "        'LastName': my_fake.last_name(),\n",
    "        'City': my_fake.city(),\n",
    "        'State': my_fake.state(),\n",
    "        'Country': my_fake.country()\n",
    "    }\n",
    "    customers_schema.append(customers)"
   ]
  },
  {
   "cell_type": "code",
   "execution_count": 100,
   "metadata": {},
   "outputs": [],
   "source": [
    "# Generate fake data for Orders table\n",
    "orders_schema = []\n",
    "for i in range(1, 750):  \n",
    "    orders = {\n",
    "        'Order_ID': i,\n",
    "        'Customer_ID': np.random.randint(1, 750),\n",
    "        'Payment_ID': i,\n",
    "        'Order_Date': my_fake.date_between(start_date='-1y', end_date='now'),\n",
    "        'Shipper_ID': np.random.randint(1, 100),  \n",
    "        'Delivery_Date': my_fake.date_between(start_date='-1y', end_date='now'),  \n",
    "    }\n",
    "    orders_schema.append(orders)"
   ]
  },
  {
   "cell_type": "code",
   "execution_count": 101,
   "metadata": {},
   "outputs": [],
   "source": [
    "# Generate fake data for OrderDetails table\n",
    "OrderDetails_schema = []\n",
    "for i in range(1, 750):  \n",
    "    num_of_products = np.random.randint(1, 11)\n",
    "    for _ in range(num_of_products):\n",
    "        orderdetails = {\n",
    "            'Order_ID': i,\n",
    "            'Product_ID': np.random.randint(1, 750),\n",
    "            'Quantity': np.random.randint(1, 10),  \n",
    "            'Supplier_ID': np.random.randint(1, 201), \n",
    "            'UnitPrice': round(np.random.uniform(50, 500), 2)  \n",
    "        }\n",
    "        OrderDetails_schema.append(orderdetails)"
   ]
  },
  {
   "cell_type": "code",
   "execution_count": 102,
   "metadata": {},
   "outputs": [],
   "source": [
    "# Product categories and brands\n",
    "product_brands = {\n",
    "    'CPVC Pipes':['Ashirvad Pipes','Astral Pipes','Finolex Industries','Prince Pipes','Supreme Pipes'],\n",
    "    'UPVC Pipes':['Apollo Pipes','Ashirvad Pipes','Finolex Industries','Prince Pipes','Supreme Pipes'],\n",
    "    'SWR Pipes':['Ashirvad Pipes','Astral Pipes','Finolex Industries','Prince Pipes','Supreme Industries Ltd.'],\n",
    "    'Underground Pipes':['Astral Pipes','Jain Irrigation Systems Ltd.','Finolex Industries','Prince Pipes','Supreme Industries Ltd.'],\n",
    "    'Ball Valves':['Ashirvad Pipes','Astral Pipes','Finolex Industries','Prince Pipes','Supreme Industries Ltd.'],\n",
    "    'Riser Pipes':['Cera Sanitaryware Ltd.','Jaquar Group','Kohler India Corporation Pvt. Ltd.'],\n",
    "    'HDPE Pipes':['Astral Pipes','Finolex Industries','Jain Irrigation Systems Ltd.','Prince Pipes','Supreme Industries Ltd.'],\n",
    "    'Casing Pipes':['Ashirvad Pipes','Jain Irrigation Systems Ltd.','Finolex Industries','Prince Pipes','Supreme Industries Ltd.'],\n",
    "    'Pressure Pipes':['Ashirvad Pipes','Jain Irrigation Systems Ltd.','Finolex Industries','Supreme Industries Ltd.','Prince Pipes'],\n",
    "    'Suction Pipes':['Ashirvad Pipes','Jain Irrigation Systems Ltd.','Finolex Industries','Prince Pipes','Supreme Industries Ltd.'],\n",
    "    'Duct Pipes':['Ashirvad Pipes','Jain Irrigation Systems Ltd.','Finolex Industries','Prince Pipes','Supreme Industries Ltd.'],\n",
    "    'Steel Wire Reinforced Pipes':['Ashirvad Pipes','Jain Irrigation Systems Ltd.','Finolex Industries','Prince Pipes','Supreme Industries Ltd.'],\n",
    "    'PTMP Taps and Fittings Pipes':['Cera Sanitaryware Ltd.','Kohler India Corporation Pvt. Ltd.','Hindware','Jaquar Group','Parryware'],\n",
    "    'Flusing Cistern':['Cera Sanitaryware Ltd.','Kohler India Corporation Pvt. Ltd.','Hindware','Jaquar Group','Parryware'],\n",
    "    'Bathroom Accessories Pipes':['Cera Sanitaryware Ltd.','Kohler India Corporation Pvt. Ltd.','Hindware','Jaquar Group','Parryware']\n",
    "}\n",
    "    "
   ]
  },
  {
   "cell_type": "code",
   "execution_count": 103,
   "metadata": {},
   "outputs": [],
   "source": [
    "# Generate fake data for Products table\n",
    "products_schema = []\n",
    "for i in range(1, 750):  \n",
    "    Types = np.random.choice(list(product_brands.keys()))\n",
    "    brands = np.random.choice(product_brands[Types])\n",
    "    products = {\n",
    "        'Product_ID': i,\n",
    "        'Product': Types,\n",
    "        'Brand': brands,\n",
    "        'Sale_Price': round(np.random.uniform(100, 1000), 2),\n",
    "        'Category_ID': np.random.randint(1, 17),  \n",
    "        'Supplier_ID': np.random.randint(1, 201)  \n",
    "    }\n",
    "    products_schema.append(products)"
   ]
  },
  {
   "cell_type": "code",
   "execution_count": 104,
   "metadata": {},
   "outputs": [],
   "source": [
    "# Generate fake data for Categories table\n",
    "categories_schema = []\n",
    "for i in range(1, 17):  # \n",
    "    categories = {\n",
    "        'Category_ID': i,\n",
    "        'Category': f'Categories{i}',\n",
    "    }\n",
    "    categories_schema.append(categories)"
   ]
  },
  {
   "cell_type": "code",
   "execution_count": 105,
   "metadata": {},
   "outputs": [],
   "source": [
    "# Generate fake data for Shippers table\n",
    "shippers_schema = []\n",
    "for i in range(1, 100):  \n",
    "    shippers = {\n",
    "        'Shipper_ID': i,\n",
    "        'Shipper': my_fake.company()\n",
    "    }\n",
    "    shippers_schema.append(shippers)"
   ]
  },
  {
   "cell_type": "code",
   "execution_count": 106,
   "metadata": {},
   "outputs": [],
   "source": [
    "# Generate fake data for Suppliers table\n",
    "suppliers_schema = []\n",
    "for i in range(1, 201):  \n",
    "    suppliers = {\n",
    "        'Supplier_ID': i,\n",
    "        'CompanyName': my_fake.company(),\n",
    "        'SupplierName': my_fake.name(),\n",
    "    }\n",
    "    suppliers_schema.append(suppliers)"
   ]
  },
  {
   "cell_type": "code",
   "execution_count": 107,
   "metadata": {},
   "outputs": [],
   "source": [
    "# Generate fake data for Payments table\n",
    "payments_schema = []\n",
    "Types = ['Cash','Credit Card', 'Debit Card','Net Banking', 'PayPal']  \n",
    "for i in range(1, 750):  \n",
    "    payments = {\n",
    "        'PaymentID': i,\n",
    "        'PaymentMethod': np.random.choice(Types) \n",
    "    }\n",
    "    payments_schema.append(payments)"
   ]
  },
  {
   "cell_type": "code",
   "execution_count": 108,
   "metadata": {},
   "outputs": [],
   "source": [
    "# Convert data to pandas DataFrame\n",
    "customer_df = pd.DataFrame(customers_schema)\n",
    "order_df = pd.DataFrame(orders_schema)\n",
    "orderdetail_df = pd.DataFrame(OrderDetails_schema)\n",
    "product_df = pd.DataFrame(products_schema)\n",
    "categories_df = pd.DataFrame(categories_schema)\n",
    "shipper_df = pd.DataFrame(shippers_schema)\n",
    "supplier_df = pd.DataFrame(suppliers_schema)\n",
    "payment_df = pd.DataFrame(payments_schema)"
   ]
  },
  {
   "cell_type": "code",
   "execution_count": 109,
   "metadata": {},
   "outputs": [
    {
     "name": "stdout",
     "output_type": "stream",
     "text": [
      "Missing values in Customers table:\n",
      "Customer_ID    0\n",
      "FirstName      0\n",
      "LastName       0\n",
      "City           0\n",
      "State          0\n",
      "Country        0\n",
      "dtype: int64\n"
     ]
    }
   ],
   "source": [
    "# Data Cleaning\n",
    "\n",
    "# Check for missing values\n",
    "print(\"Missing values in Customers table:\")\n",
    "print(customer_df.isnull().sum())\n"
   ]
  },
  {
   "cell_type": "code",
   "execution_count": 110,
   "metadata": {},
   "outputs": [
    {
     "name": "stdout",
     "output_type": "stream",
     "text": [
      "Missing values in OrderDetails table:\n",
      "Order_ID       0\n",
      "Product_ID     0\n",
      "Quantity       0\n",
      "Supplier_ID    0\n",
      "UnitPrice      0\n",
      "dtype: int64\n"
     ]
    }
   ],
   "source": [
    "# Check for missing values\n",
    "print(\"Missing values in OrderDetails table:\")\n",
    "print(orderdetail_df.isnull().sum())"
   ]
  },
  {
   "cell_type": "code",
   "execution_count": 111,
   "metadata": {},
   "outputs": [
    {
     "name": "stdout",
     "output_type": "stream",
     "text": [
      "Missing values in Products table:\n",
      "Product_ID     0\n",
      "Product        0\n",
      "Brand          0\n",
      "Sale_Price     0\n",
      "Category_ID    0\n",
      "Supplier_ID    0\n",
      "dtype: int64\n"
     ]
    }
   ],
   "source": [
    "# Check for missing values\n",
    "print(\"Missing values in Products table:\")\n",
    "print(product_df.isnull().sum())"
   ]
  },
  {
   "cell_type": "code",
   "execution_count": 112,
   "metadata": {},
   "outputs": [
    {
     "name": "stdout",
     "output_type": "stream",
     "text": [
      "Missing values in Categoriess table:\n",
      "Category_ID    0\n",
      "Category       0\n",
      "dtype: int64\n"
     ]
    }
   ],
   "source": [
    "# Check for missing values\n",
    "print(\"Missing values in Categoriess table:\")\n",
    "print(categories_df.isnull().sum())"
   ]
  },
  {
   "cell_type": "code",
   "execution_count": 113,
   "metadata": {},
   "outputs": [
    {
     "name": "stdout",
     "output_type": "stream",
     "text": [
      "Missing values in Shippers table:\n",
      "Shipper_ID    0\n",
      "Shipper       0\n",
      "dtype: int64\n"
     ]
    }
   ],
   "source": [
    "# Check for missing values\n",
    "print(\"Missing values in Shippers table:\")\n",
    "print(shipper_df.isnull().sum())"
   ]
  },
  {
   "cell_type": "code",
   "execution_count": 114,
   "metadata": {},
   "outputs": [
    {
     "name": "stdout",
     "output_type": "stream",
     "text": [
      "Missing values in Suppliers table:\n",
      "Supplier_ID     0\n",
      "CompanyName     0\n",
      "SupplierName    0\n",
      "dtype: int64\n"
     ]
    }
   ],
   "source": [
    "# Check for missing values\n",
    "print(\"Missing values in Suppliers table:\")\n",
    "print(supplier_df.isnull().sum())"
   ]
  },
  {
   "cell_type": "code",
   "execution_count": 115,
   "metadata": {},
   "outputs": [
    {
     "name": "stdout",
     "output_type": "stream",
     "text": [
      "Missing values in Payments table:\n",
      "PaymentID        0\n",
      "PaymentMethod    0\n",
      "dtype: int64\n"
     ]
    }
   ],
   "source": [
    "# Check for missing values\n",
    "print(\"Missing values in Payments table:\")\n",
    "print(payment_df.isnull().sum())"
   ]
  },
  {
   "cell_type": "code",
   "execution_count": 116,
   "metadata": {},
   "outputs": [
    {
     "name": "stdout",
     "output_type": "stream",
     "text": [
      "(749, 6)\n",
      "(749, 6)\n",
      "(4028, 5)\n",
      "(749, 6)\n",
      "(16, 2)\n",
      "(99, 2)\n",
      "(200, 3)\n",
      "(749, 2)\n"
     ]
    }
   ],
   "source": [
    "# check shape of data before cleaning\n",
    "print(customer_df.shape)\n",
    "print(order_df.shape)\n",
    "print(orderdetail_df.shape)\n",
    "print(product_df.shape)\n",
    "print(categories_df.shape)\n",
    "print(shipper_df.shape)\n",
    "print(supplier_df.shape)\n",
    "print(payment_df.shape)"
   ]
  },
  {
   "cell_type": "code",
   "execution_count": 117,
   "metadata": {},
   "outputs": [],
   "source": [
    "# Remove duplicate rows\n",
    "customer_df = customer_df.drop_duplicates()\n",
    "order_df = order_df.drop_duplicates()\n",
    "orderdetail_df = orderdetail_df.drop_duplicates()\n",
    "product_df = product_df.drop_duplicates()\n",
    "categories_df = categories_df.drop_duplicates()\n",
    "shipper_df = shipper_df.drop_duplicates()\n",
    "supplier_df = supplier_df.drop_duplicates()\n",
    "payment_df = payment_df.drop_duplicates()"
   ]
  },
  {
   "cell_type": "code",
   "execution_count": 118,
   "metadata": {},
   "outputs": [
    {
     "name": "stdout",
     "output_type": "stream",
     "text": [
      "(749, 6)\n",
      "(749, 6)\n",
      "(4028, 5)\n",
      "(749, 6)\n",
      "(16, 2)\n",
      "(99, 2)\n",
      "(200, 3)\n",
      "(749, 2)\n"
     ]
    }
   ],
   "source": [
    "# check shape of data after cleaning\n",
    "print(customer_df.shape)\n",
    "print(order_df.shape)\n",
    "print(orderdetail_df.shape)\n",
    "print(product_df.shape)\n",
    "print(categories_df.shape)\n",
    "print(shipper_df.shape)\n",
    "print(supplier_df.shape)\n",
    "print(payment_df.shape)"
   ]
  },
  {
   "cell_type": "code",
   "execution_count": 119,
   "metadata": {},
   "outputs": [
    {
     "name": "stdout",
     "output_type": "stream",
     "text": [
      "Customer_ID     int64\n",
      "FirstName      object\n",
      "LastName       object\n",
      "City           object\n",
      "State          object\n",
      "Country        object\n",
      "dtype: object\n",
      "Order_ID          int64\n",
      "Customer_ID       int64\n",
      "Payment_ID        int64\n",
      "Order_Date       object\n",
      "Shipper_ID        int64\n",
      "Delivery_Date    object\n",
      "dtype: object\n",
      "Order_ID         int64\n",
      "Product_ID       int64\n",
      "Quantity         int64\n",
      "Supplier_ID      int64\n",
      "UnitPrice      float64\n",
      "dtype: object\n",
      "Product_ID       int64\n",
      "Product         object\n",
      "Brand           object\n",
      "Sale_Price     float64\n",
      "Category_ID      int64\n",
      "Supplier_ID      int64\n",
      "dtype: object\n",
      "Category_ID     int64\n",
      "Category       object\n",
      "dtype: object\n",
      "Shipper_ID     int64\n",
      "Shipper       object\n",
      "dtype: object\n",
      "Supplier_ID      int64\n",
      "CompanyName     object\n",
      "SupplierName    object\n",
      "dtype: object\n",
      "PaymentID         int64\n",
      "PaymentMethod    object\n",
      "dtype: object\n"
     ]
    }
   ],
   "source": [
    "# Check for data types\n",
    "print(customer_df.dtypes)\n",
    "print(order_df.dtypes)\n",
    "print(orderdetail_df.dtypes)\n",
    "print(product_df.dtypes)\n",
    "print(categories_df.dtypes)\n",
    "print(shipper_df.dtypes)\n",
    "print(supplier_df.dtypes)\n",
    "print(payment_df.dtypes)"
   ]
  },
  {
   "cell_type": "code",
   "execution_count": 120,
   "metadata": {},
   "outputs": [
    {
     "data": {
      "text/html": [
       "<div>\n",
       "<style scoped>\n",
       "    .dataframe tbody tr th:only-of-type {\n",
       "        vertical-align: middle;\n",
       "    }\n",
       "\n",
       "    .dataframe tbody tr th {\n",
       "        vertical-align: top;\n",
       "    }\n",
       "\n",
       "    .dataframe thead th {\n",
       "        text-align: right;\n",
       "    }\n",
       "</style>\n",
       "<table border=\"1\" class=\"dataframe\">\n",
       "  <thead>\n",
       "    <tr style=\"text-align: right;\">\n",
       "      <th></th>\n",
       "      <th>Customer_ID</th>\n",
       "      <th>FirstName</th>\n",
       "      <th>LastName</th>\n",
       "      <th>City</th>\n",
       "      <th>State</th>\n",
       "      <th>Country</th>\n",
       "    </tr>\n",
       "  </thead>\n",
       "  <tbody>\n",
       "    <tr>\n",
       "      <th>0</th>\n",
       "      <td>1</td>\n",
       "      <td>Benjamin</td>\n",
       "      <td>Shaw</td>\n",
       "      <td>Wallaceview</td>\n",
       "      <td>California</td>\n",
       "      <td>Belgium</td>\n",
       "    </tr>\n",
       "    <tr>\n",
       "      <th>1</th>\n",
       "      <td>2</td>\n",
       "      <td>Michelle</td>\n",
       "      <td>Armstrong</td>\n",
       "      <td>Port Tiffany</td>\n",
       "      <td>Iowa</td>\n",
       "      <td>Fiji</td>\n",
       "    </tr>\n",
       "    <tr>\n",
       "      <th>2</th>\n",
       "      <td>3</td>\n",
       "      <td>Katherine</td>\n",
       "      <td>Horn</td>\n",
       "      <td>Amandaside</td>\n",
       "      <td>Wyoming</td>\n",
       "      <td>Chad</td>\n",
       "    </tr>\n",
       "    <tr>\n",
       "      <th>3</th>\n",
       "      <td>4</td>\n",
       "      <td>Jeffrey</td>\n",
       "      <td>Williams</td>\n",
       "      <td>Lake Mario</td>\n",
       "      <td>Alabama</td>\n",
       "      <td>Western Sahara</td>\n",
       "    </tr>\n",
       "    <tr>\n",
       "      <th>4</th>\n",
       "      <td>5</td>\n",
       "      <td>Matthew</td>\n",
       "      <td>Poole</td>\n",
       "      <td>Wandatown</td>\n",
       "      <td>New Mexico</td>\n",
       "      <td>France</td>\n",
       "    </tr>\n",
       "  </tbody>\n",
       "</table>\n",
       "</div>"
      ],
      "text/plain": [
       "   Customer_ID  FirstName   LastName          City       State         Country\n",
       "0            1   Benjamin       Shaw   Wallaceview  California         Belgium\n",
       "1            2   Michelle  Armstrong  Port Tiffany        Iowa            Fiji\n",
       "2            3  Katherine       Horn    Amandaside     Wyoming            Chad\n",
       "3            4    Jeffrey   Williams    Lake Mario     Alabama  Western Sahara\n",
       "4            5    Matthew      Poole     Wandatown  New Mexico          France"
      ]
     },
     "execution_count": 120,
     "metadata": {},
     "output_type": "execute_result"
    }
   ],
   "source": [
    "customer_df.head()"
   ]
  },
  {
   "cell_type": "code",
   "execution_count": 121,
   "metadata": {},
   "outputs": [
    {
     "data": {
      "text/html": [
       "<div>\n",
       "<style scoped>\n",
       "    .dataframe tbody tr th:only-of-type {\n",
       "        vertical-align: middle;\n",
       "    }\n",
       "\n",
       "    .dataframe tbody tr th {\n",
       "        vertical-align: top;\n",
       "    }\n",
       "\n",
       "    .dataframe thead th {\n",
       "        text-align: right;\n",
       "    }\n",
       "</style>\n",
       "<table border=\"1\" class=\"dataframe\">\n",
       "  <thead>\n",
       "    <tr style=\"text-align: right;\">\n",
       "      <th></th>\n",
       "      <th>Order_ID</th>\n",
       "      <th>Customer_ID</th>\n",
       "      <th>Payment_ID</th>\n",
       "      <th>Order_Date</th>\n",
       "      <th>Shipper_ID</th>\n",
       "      <th>Delivery_Date</th>\n",
       "    </tr>\n",
       "  </thead>\n",
       "  <tbody>\n",
       "    <tr>\n",
       "      <th>0</th>\n",
       "      <td>1</td>\n",
       "      <td>749</td>\n",
       "      <td>1</td>\n",
       "      <td>2024-05-07</td>\n",
       "      <td>47</td>\n",
       "      <td>2024-01-28</td>\n",
       "    </tr>\n",
       "    <tr>\n",
       "      <th>1</th>\n",
       "      <td>2</td>\n",
       "      <td>278</td>\n",
       "      <td>2</td>\n",
       "      <td>2023-09-19</td>\n",
       "      <td>52</td>\n",
       "      <td>2023-08-31</td>\n",
       "    </tr>\n",
       "    <tr>\n",
       "      <th>2</th>\n",
       "      <td>3</td>\n",
       "      <td>376</td>\n",
       "      <td>3</td>\n",
       "      <td>2024-02-12</td>\n",
       "      <td>59</td>\n",
       "      <td>2023-09-09</td>\n",
       "    </tr>\n",
       "    <tr>\n",
       "      <th>3</th>\n",
       "      <td>4</td>\n",
       "      <td>374</td>\n",
       "      <td>4</td>\n",
       "      <td>2023-10-03</td>\n",
       "      <td>85</td>\n",
       "      <td>2023-08-22</td>\n",
       "    </tr>\n",
       "    <tr>\n",
       "      <th>4</th>\n",
       "      <td>5</td>\n",
       "      <td>549</td>\n",
       "      <td>5</td>\n",
       "      <td>2024-05-03</td>\n",
       "      <td>33</td>\n",
       "      <td>2023-09-09</td>\n",
       "    </tr>\n",
       "  </tbody>\n",
       "</table>\n",
       "</div>"
      ],
      "text/plain": [
       "   Order_ID  Customer_ID  Payment_ID  Order_Date  Shipper_ID Delivery_Date\n",
       "0         1          749           1  2024-05-07          47    2024-01-28\n",
       "1         2          278           2  2023-09-19          52    2023-08-31\n",
       "2         3          376           3  2024-02-12          59    2023-09-09\n",
       "3         4          374           4  2023-10-03          85    2023-08-22\n",
       "4         5          549           5  2024-05-03          33    2023-09-09"
      ]
     },
     "execution_count": 121,
     "metadata": {},
     "output_type": "execute_result"
    }
   ],
   "source": [
    "order_df.head()"
   ]
  },
  {
   "cell_type": "code",
   "execution_count": 122,
   "metadata": {},
   "outputs": [
    {
     "data": {
      "text/html": [
       "<div>\n",
       "<style scoped>\n",
       "    .dataframe tbody tr th:only-of-type {\n",
       "        vertical-align: middle;\n",
       "    }\n",
       "\n",
       "    .dataframe tbody tr th {\n",
       "        vertical-align: top;\n",
       "    }\n",
       "\n",
       "    .dataframe thead th {\n",
       "        text-align: right;\n",
       "    }\n",
       "</style>\n",
       "<table border=\"1\" class=\"dataframe\">\n",
       "  <thead>\n",
       "    <tr style=\"text-align: right;\">\n",
       "      <th></th>\n",
       "      <th>Order_ID</th>\n",
       "      <th>Product_ID</th>\n",
       "      <th>Quantity</th>\n",
       "      <th>Supplier_ID</th>\n",
       "      <th>UnitPrice</th>\n",
       "    </tr>\n",
       "  </thead>\n",
       "  <tbody>\n",
       "    <tr>\n",
       "      <th>0</th>\n",
       "      <td>1</td>\n",
       "      <td>577</td>\n",
       "      <td>3</td>\n",
       "      <td>190</td>\n",
       "      <td>57.46</td>\n",
       "    </tr>\n",
       "    <tr>\n",
       "      <th>1</th>\n",
       "      <td>1</td>\n",
       "      <td>17</td>\n",
       "      <td>5</td>\n",
       "      <td>81</td>\n",
       "      <td>351.25</td>\n",
       "    </tr>\n",
       "    <tr>\n",
       "      <th>2</th>\n",
       "      <td>1</td>\n",
       "      <td>84</td>\n",
       "      <td>1</td>\n",
       "      <td>42</td>\n",
       "      <td>176.62</td>\n",
       "    </tr>\n",
       "    <tr>\n",
       "      <th>3</th>\n",
       "      <td>1</td>\n",
       "      <td>593</td>\n",
       "      <td>1</td>\n",
       "      <td>198</td>\n",
       "      <td>418.27</td>\n",
       "    </tr>\n",
       "    <tr>\n",
       "      <th>4</th>\n",
       "      <td>1</td>\n",
       "      <td>608</td>\n",
       "      <td>4</td>\n",
       "      <td>29</td>\n",
       "      <td>174.54</td>\n",
       "    </tr>\n",
       "  </tbody>\n",
       "</table>\n",
       "</div>"
      ],
      "text/plain": [
       "   Order_ID  Product_ID  Quantity  Supplier_ID  UnitPrice\n",
       "0         1         577         3          190      57.46\n",
       "1         1          17         5           81     351.25\n",
       "2         1          84         1           42     176.62\n",
       "3         1         593         1          198     418.27\n",
       "4         1         608         4           29     174.54"
      ]
     },
     "execution_count": 122,
     "metadata": {},
     "output_type": "execute_result"
    }
   ],
   "source": [
    "orderdetail_df.head()"
   ]
  },
  {
   "cell_type": "code",
   "execution_count": 123,
   "metadata": {},
   "outputs": [
    {
     "data": {
      "text/html": [
       "<div>\n",
       "<style scoped>\n",
       "    .dataframe tbody tr th:only-of-type {\n",
       "        vertical-align: middle;\n",
       "    }\n",
       "\n",
       "    .dataframe tbody tr th {\n",
       "        vertical-align: top;\n",
       "    }\n",
       "\n",
       "    .dataframe thead th {\n",
       "        text-align: right;\n",
       "    }\n",
       "</style>\n",
       "<table border=\"1\" class=\"dataframe\">\n",
       "  <thead>\n",
       "    <tr style=\"text-align: right;\">\n",
       "      <th></th>\n",
       "      <th>Product_ID</th>\n",
       "      <th>Product</th>\n",
       "      <th>Brand</th>\n",
       "      <th>Sale_Price</th>\n",
       "      <th>Category_ID</th>\n",
       "      <th>Supplier_ID</th>\n",
       "    </tr>\n",
       "  </thead>\n",
       "  <tbody>\n",
       "    <tr>\n",
       "      <th>0</th>\n",
       "      <td>1</td>\n",
       "      <td>HDPE Pipes</td>\n",
       "      <td>Jain Irrigation Systems Ltd.</td>\n",
       "      <td>501.51</td>\n",
       "      <td>16</td>\n",
       "      <td>35</td>\n",
       "    </tr>\n",
       "    <tr>\n",
       "      <th>1</th>\n",
       "      <td>2</td>\n",
       "      <td>Flusing Cistern</td>\n",
       "      <td>Kohler India Corporation Pvt. Ltd.</td>\n",
       "      <td>358.11</td>\n",
       "      <td>14</td>\n",
       "      <td>61</td>\n",
       "    </tr>\n",
       "    <tr>\n",
       "      <th>2</th>\n",
       "      <td>3</td>\n",
       "      <td>SWR Pipes</td>\n",
       "      <td>Ashirvad Pipes</td>\n",
       "      <td>235.05</td>\n",
       "      <td>2</td>\n",
       "      <td>26</td>\n",
       "    </tr>\n",
       "    <tr>\n",
       "      <th>3</th>\n",
       "      <td>4</td>\n",
       "      <td>SWR Pipes</td>\n",
       "      <td>Prince Pipes</td>\n",
       "      <td>423.89</td>\n",
       "      <td>10</td>\n",
       "      <td>32</td>\n",
       "    </tr>\n",
       "    <tr>\n",
       "      <th>4</th>\n",
       "      <td>5</td>\n",
       "      <td>Ball Valves</td>\n",
       "      <td>Prince Pipes</td>\n",
       "      <td>210.20</td>\n",
       "      <td>5</td>\n",
       "      <td>65</td>\n",
       "    </tr>\n",
       "  </tbody>\n",
       "</table>\n",
       "</div>"
      ],
      "text/plain": [
       "   Product_ID          Product                               Brand  \\\n",
       "0           1       HDPE Pipes        Jain Irrigation Systems Ltd.   \n",
       "1           2  Flusing Cistern  Kohler India Corporation Pvt. Ltd.   \n",
       "2           3        SWR Pipes                      Ashirvad Pipes   \n",
       "3           4        SWR Pipes                        Prince Pipes   \n",
       "4           5      Ball Valves                        Prince Pipes   \n",
       "\n",
       "   Sale_Price  Category_ID  Supplier_ID  \n",
       "0      501.51           16           35  \n",
       "1      358.11           14           61  \n",
       "2      235.05            2           26  \n",
       "3      423.89           10           32  \n",
       "4      210.20            5           65  "
      ]
     },
     "execution_count": 123,
     "metadata": {},
     "output_type": "execute_result"
    }
   ],
   "source": [
    "product_df.head()"
   ]
  },
  {
   "cell_type": "code",
   "execution_count": 124,
   "metadata": {},
   "outputs": [
    {
     "data": {
      "text/html": [
       "<div>\n",
       "<style scoped>\n",
       "    .dataframe tbody tr th:only-of-type {\n",
       "        vertical-align: middle;\n",
       "    }\n",
       "\n",
       "    .dataframe tbody tr th {\n",
       "        vertical-align: top;\n",
       "    }\n",
       "\n",
       "    .dataframe thead th {\n",
       "        text-align: right;\n",
       "    }\n",
       "</style>\n",
       "<table border=\"1\" class=\"dataframe\">\n",
       "  <thead>\n",
       "    <tr style=\"text-align: right;\">\n",
       "      <th></th>\n",
       "      <th>Category_ID</th>\n",
       "      <th>Category</th>\n",
       "    </tr>\n",
       "  </thead>\n",
       "  <tbody>\n",
       "    <tr>\n",
       "      <th>0</th>\n",
       "      <td>1</td>\n",
       "      <td>Categories1</td>\n",
       "    </tr>\n",
       "    <tr>\n",
       "      <th>1</th>\n",
       "      <td>2</td>\n",
       "      <td>Categories2</td>\n",
       "    </tr>\n",
       "    <tr>\n",
       "      <th>2</th>\n",
       "      <td>3</td>\n",
       "      <td>Categories3</td>\n",
       "    </tr>\n",
       "    <tr>\n",
       "      <th>3</th>\n",
       "      <td>4</td>\n",
       "      <td>Categories4</td>\n",
       "    </tr>\n",
       "    <tr>\n",
       "      <th>4</th>\n",
       "      <td>5</td>\n",
       "      <td>Categories5</td>\n",
       "    </tr>\n",
       "  </tbody>\n",
       "</table>\n",
       "</div>"
      ],
      "text/plain": [
       "   Category_ID     Category\n",
       "0            1  Categories1\n",
       "1            2  Categories2\n",
       "2            3  Categories3\n",
       "3            4  Categories4\n",
       "4            5  Categories5"
      ]
     },
     "execution_count": 124,
     "metadata": {},
     "output_type": "execute_result"
    }
   ],
   "source": [
    "categories_df.head()"
   ]
  },
  {
   "cell_type": "code",
   "execution_count": 125,
   "metadata": {},
   "outputs": [
    {
     "data": {
      "text/html": [
       "<div>\n",
       "<style scoped>\n",
       "    .dataframe tbody tr th:only-of-type {\n",
       "        vertical-align: middle;\n",
       "    }\n",
       "\n",
       "    .dataframe tbody tr th {\n",
       "        vertical-align: top;\n",
       "    }\n",
       "\n",
       "    .dataframe thead th {\n",
       "        text-align: right;\n",
       "    }\n",
       "</style>\n",
       "<table border=\"1\" class=\"dataframe\">\n",
       "  <thead>\n",
       "    <tr style=\"text-align: right;\">\n",
       "      <th></th>\n",
       "      <th>Shipper_ID</th>\n",
       "      <th>Shipper</th>\n",
       "    </tr>\n",
       "  </thead>\n",
       "  <tbody>\n",
       "    <tr>\n",
       "      <th>0</th>\n",
       "      <td>1</td>\n",
       "      <td>Bennett LLC</td>\n",
       "    </tr>\n",
       "    <tr>\n",
       "      <th>1</th>\n",
       "      <td>2</td>\n",
       "      <td>Martin, Jenkins and Barker</td>\n",
       "    </tr>\n",
       "    <tr>\n",
       "      <th>2</th>\n",
       "      <td>3</td>\n",
       "      <td>Jennings Group</td>\n",
       "    </tr>\n",
       "    <tr>\n",
       "      <th>3</th>\n",
       "      <td>4</td>\n",
       "      <td>Taylor-Reed</td>\n",
       "    </tr>\n",
       "    <tr>\n",
       "      <th>4</th>\n",
       "      <td>5</td>\n",
       "      <td>Ortiz and Sons</td>\n",
       "    </tr>\n",
       "  </tbody>\n",
       "</table>\n",
       "</div>"
      ],
      "text/plain": [
       "   Shipper_ID                     Shipper\n",
       "0           1                 Bennett LLC\n",
       "1           2  Martin, Jenkins and Barker\n",
       "2           3              Jennings Group\n",
       "3           4                 Taylor-Reed\n",
       "4           5              Ortiz and Sons"
      ]
     },
     "execution_count": 125,
     "metadata": {},
     "output_type": "execute_result"
    }
   ],
   "source": [
    "shipper_df.head()"
   ]
  },
  {
   "cell_type": "code",
   "execution_count": 126,
   "metadata": {},
   "outputs": [
    {
     "data": {
      "text/html": [
       "<div>\n",
       "<style scoped>\n",
       "    .dataframe tbody tr th:only-of-type {\n",
       "        vertical-align: middle;\n",
       "    }\n",
       "\n",
       "    .dataframe tbody tr th {\n",
       "        vertical-align: top;\n",
       "    }\n",
       "\n",
       "    .dataframe thead th {\n",
       "        text-align: right;\n",
       "    }\n",
       "</style>\n",
       "<table border=\"1\" class=\"dataframe\">\n",
       "  <thead>\n",
       "    <tr style=\"text-align: right;\">\n",
       "      <th></th>\n",
       "      <th>Supplier_ID</th>\n",
       "      <th>CompanyName</th>\n",
       "      <th>SupplierName</th>\n",
       "    </tr>\n",
       "  </thead>\n",
       "  <tbody>\n",
       "    <tr>\n",
       "      <th>0</th>\n",
       "      <td>1</td>\n",
       "      <td>Whitaker-Reynolds</td>\n",
       "      <td>Victoria Turner</td>\n",
       "    </tr>\n",
       "    <tr>\n",
       "      <th>1</th>\n",
       "      <td>2</td>\n",
       "      <td>Summers, Parsons and Mcdaniel</td>\n",
       "      <td>Jeremy Stark</td>\n",
       "    </tr>\n",
       "    <tr>\n",
       "      <th>2</th>\n",
       "      <td>3</td>\n",
       "      <td>Mullen-Fernandez</td>\n",
       "      <td>Amanda Sullivan</td>\n",
       "    </tr>\n",
       "    <tr>\n",
       "      <th>3</th>\n",
       "      <td>4</td>\n",
       "      <td>Jackson, Meyers and Ross</td>\n",
       "      <td>Kelly Gilbert</td>\n",
       "    </tr>\n",
       "    <tr>\n",
       "      <th>4</th>\n",
       "      <td>5</td>\n",
       "      <td>Gonzalez, Bates and Boyd</td>\n",
       "      <td>Patrick Harris</td>\n",
       "    </tr>\n",
       "  </tbody>\n",
       "</table>\n",
       "</div>"
      ],
      "text/plain": [
       "   Supplier_ID                    CompanyName     SupplierName\n",
       "0            1              Whitaker-Reynolds  Victoria Turner\n",
       "1            2  Summers, Parsons and Mcdaniel     Jeremy Stark\n",
       "2            3               Mullen-Fernandez  Amanda Sullivan\n",
       "3            4       Jackson, Meyers and Ross    Kelly Gilbert\n",
       "4            5       Gonzalez, Bates and Boyd   Patrick Harris"
      ]
     },
     "execution_count": 126,
     "metadata": {},
     "output_type": "execute_result"
    }
   ],
   "source": [
    "supplier_df.head()"
   ]
  },
  {
   "cell_type": "code",
   "execution_count": 127,
   "metadata": {},
   "outputs": [
    {
     "data": {
      "text/html": [
       "<div>\n",
       "<style scoped>\n",
       "    .dataframe tbody tr th:only-of-type {\n",
       "        vertical-align: middle;\n",
       "    }\n",
       "\n",
       "    .dataframe tbody tr th {\n",
       "        vertical-align: top;\n",
       "    }\n",
       "\n",
       "    .dataframe thead th {\n",
       "        text-align: right;\n",
       "    }\n",
       "</style>\n",
       "<table border=\"1\" class=\"dataframe\">\n",
       "  <thead>\n",
       "    <tr style=\"text-align: right;\">\n",
       "      <th></th>\n",
       "      <th>PaymentID</th>\n",
       "      <th>PaymentMethod</th>\n",
       "    </tr>\n",
       "  </thead>\n",
       "  <tbody>\n",
       "    <tr>\n",
       "      <th>0</th>\n",
       "      <td>1</td>\n",
       "      <td>Debit Card</td>\n",
       "    </tr>\n",
       "    <tr>\n",
       "      <th>1</th>\n",
       "      <td>2</td>\n",
       "      <td>Net Banking</td>\n",
       "    </tr>\n",
       "    <tr>\n",
       "      <th>2</th>\n",
       "      <td>3</td>\n",
       "      <td>Debit Card</td>\n",
       "    </tr>\n",
       "    <tr>\n",
       "      <th>3</th>\n",
       "      <td>4</td>\n",
       "      <td>Credit Card</td>\n",
       "    </tr>\n",
       "    <tr>\n",
       "      <th>4</th>\n",
       "      <td>5</td>\n",
       "      <td>Cash</td>\n",
       "    </tr>\n",
       "  </tbody>\n",
       "</table>\n",
       "</div>"
      ],
      "text/plain": [
       "   PaymentID PaymentMethod\n",
       "0          1    Debit Card\n",
       "1          2   Net Banking\n",
       "2          3    Debit Card\n",
       "3          4   Credit Card\n",
       "4          5          Cash"
      ]
     },
     "execution_count": 127,
     "metadata": {},
     "output_type": "execute_result"
    }
   ],
   "source": [
    "payment_df.head()"
   ]
  },
  {
   "cell_type": "code",
   "execution_count": 128,
   "metadata": {},
   "outputs": [],
   "source": [
    "# Save data to xlsx files\n",
    "customer_df.to_csv('customers.csv', index=False)\n",
    "order_df.to_csv('orders.csv', index=False)\n",
    "orderdetail_df.to_csv('orderdetails.csv', index=False)\n",
    "product_df.to_csv('products.csv', index=False)\n",
    "categories_df.to_csv('categories.csv', index=False)\n",
    "shipper_df.to_csv('shippers.csv', index=False)\n",
    "supplier_df.to_csv('suppliers.csv', index=False)\n",
    "payment_df.to_csv('payments.csv', index=False)"
   ]
  }
 ],
 "metadata": {
  "kernelspec": {
   "display_name": "Python 3",
   "language": "python",
   "name": "python3"
  },
  "language_info": {
   "codemirror_mode": {
    "name": "ipython",
    "version": 3
   },
   "file_extension": ".py",
   "mimetype": "text/x-python",
   "name": "python",
   "nbconvert_exporter": "python",
   "pygments_lexer": "ipython3",
   "version": "3.11.5"
  }
 },
 "nbformat": 4,
 "nbformat_minor": 2
}
